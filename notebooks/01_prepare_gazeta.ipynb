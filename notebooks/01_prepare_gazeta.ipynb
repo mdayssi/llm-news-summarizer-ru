{
 "cells": [
  {
   "cell_type": "code",
   "execution_count": null,
   "id": "0",
   "metadata": {},
   "outputs": [],
   "source": [
    "import os\n",
    "import warnings\n",
    "from pathlib import Path\n",
    "from typing import Optional\n",
    "\n",
    "import pandas as pd\n",
    "from datasets import load_dataset\n",
    "from dotenv import load_dotenv\n",
    "\n",
    "load_dotenv()\n",
    "warnings.filterwarnings(\"ignore\")\n",
    "%matplotlib inline\n",
    "%load_ext autoreload\n",
    "%autoreload 2\n",
    "\n",
    "EXTERNAL = Path(os.getenv(\"EXTERNAL_STORAGE_DIR\"))\n",
    "ROOT = Path(os.getenv(\"ROOT\"))\n",
    "DATA_DIR = ROOT / \"data\"\n",
    "PROC_DIR = DATA_DIR / \"processed\"\n",
    "SPLIT_DIR = DATA_DIR / \"splits\"\n",
    "\n",
    "PROC_DIR.mkdir(parents=True, exist_ok=True)\n",
    "SPLIT_DIR.mkdir(parents=True, exist_ok=True)\n",
    "\n",
    "print(f\"EXTERNAL_STORAGE_DIR: {EXTERNAL}\")\n",
    "print(f\"DATA_DIR: {DATA_DIR.resolve()}\")"
   ]
  },
  {
   "cell_type": "code",
   "execution_count": null,
   "id": "1",
   "metadata": {},
   "outputs": [],
   "source": [
    "ds = load_dataset(\"IlyaGusev/gazeta\")\n",
    "\n",
    "ds"
   ]
  },
  {
   "cell_type": "code",
   "execution_count": null,
   "id": "2",
   "metadata": {},
   "outputs": [],
   "source": [
    "ds[\"validation\"][0]"
   ]
  },
  {
   "cell_type": "code",
   "execution_count": null,
   "id": "3",
   "metadata": {},
   "outputs": [],
   "source": [
    "splits = list(ds.keys())\n",
    "features = list(ds[splits[1]].features.keys())\n",
    "print(f\"Feature names: {features}\")\n",
    "print(f\"Splits: {splits}\")"
   ]
  },
  {
   "cell_type": "code",
   "execution_count": null,
   "id": "4",
   "metadata": {},
   "outputs": [],
   "source": [
    "text_col, summ_col, title_col = features[:3]"
   ]
  },
  {
   "cell_type": "code",
   "execution_count": null,
   "id": "5",
   "metadata": {},
   "outputs": [],
   "source": [
    "def clean(s: Optional[pd.Series]) -> Optional[pd.Series]:\n",
    "    s = s.fillna(\"\")\n",
    "    s = (\n",
    "        s.str.replace(\"\\xa0\", \" \", regex=False)\n",
    "        .str.replace(\"\\u2009\", \" \", regex=False)\n",
    "        .str.replace(r\"\\s+\", \" \", regex=True)\n",
    "        .str.strip()\n",
    "    )\n",
    "    return s"
   ]
  },
  {
   "cell_type": "code",
   "execution_count": null,
   "id": "6",
   "metadata": {},
   "outputs": [],
   "source": [
    "for split in splits:\n",
    "    df = ds[split].to_pandas()\n",
    "    df[\"origin_idx\"] = df.index\n",
    "    df[title_col] = clean(df[title_col])\n",
    "    df[text_col] = clean(df[text_col])\n",
    "    df[summ_col] = clean(df[summ_col])\n",
    "    df = df[df[text_col].str.len() > 300].reset_index(drop=True)\n",
    "    out = pd.DataFrame(\n",
    "        {\n",
    "            \"id\": df[\"origin_idx\"],\n",
    "            \"title\": df[title_col],\n",
    "            \"text\": df[text_col],\n",
    "            \"reference_summary\": df[summ_col],\n",
    "        }\n",
    "    )\n",
    "\n",
    "    out_split_ids = SPLIT_DIR / f\"gazeta_{split}_ids.csv\"\n",
    "    out[\"id\"].to_csv(out_split_ids, index=False, header=False)\n",
    "\n",
    "    out_split_sample = SPLIT_DIR / f\"gazeta_{split}_sample.jsonl\"\n",
    "    sample = out.sample(n=min(500, len(out)), random_state=42)\n",
    "    sample.to_json(out_split_sample, orient=\"records\", force_ascii=False, lines=True)\n",
    "\n",
    "    out_proc = PROC_DIR / f\"gazeta_{split}.jsonl\"\n",
    "    out.to_json(out_proc, orient=\"records\", force_ascii=False, lines=True)\n",
    "\n",
    "    if EXTERNAL:\n",
    "        mirror = EXTERNAL / \"data\" / \"raw\"\n",
    "        mirror.mkdir(parents=True, exist_ok=True)\n",
    "        out.to_json(\n",
    "            mirror / f\"gazeta_{split}.jsonl\",\n",
    "            orient=\"records\",\n",
    "            force_ascii=False,\n",
    "            lines=True,\n",
    "        )"
   ]
  },
  {
   "cell_type": "code",
   "execution_count": null,
   "id": "7",
   "metadata": {},
   "outputs": [],
   "source": []
  },
  {
   "cell_type": "code",
   "execution_count": null,
   "id": "8",
   "metadata": {},
   "outputs": [],
   "source": []
  }
 ],
 "metadata": {
  "kernelspec": {
   "display_name": "Python (llm-news)",
   "language": "python",
   "name": "llm-news"
  },
  "language_info": {
   "codemirror_mode": {
    "name": "ipython",
    "version": 3
   },
   "file_extension": ".py",
   "mimetype": "text/x-python",
   "name": "python",
   "nbconvert_exporter": "python",
   "pygments_lexer": "ipython3",
   "version": "3.12.11"
  }
 },
 "nbformat": 4,
 "nbformat_minor": 5
}
