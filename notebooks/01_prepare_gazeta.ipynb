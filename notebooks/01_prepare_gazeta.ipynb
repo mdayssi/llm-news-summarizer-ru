{
 "cells": [
  {
   "cell_type": "code",
   "execution_count": 2,
   "id": "c46fe008-dc4f-4c32-8112-eece61051d18",
   "metadata": {},
   "outputs": [
    {
     "name": "stdout",
     "output_type": "stream",
     "text": [
      "EXTERNAL_STORAGE_DIR: /Users/daria/Documents/files_drive/llm-news-summarizer-ru\n",
      "DATA_DIR: /Users/daria/Documents/my_projects/llm-news-summarizer-ru/data\n"
     ]
    }
   ],
   "source": [
    "import json\n",
    "import os\n",
    "import random\n",
    "from pathlib import Path\n",
    "\n",
    "import pandas as pd\n",
    "from datasets import load_dataset\n",
    "from dotenv import load_dotenv\n",
    "\n",
    "load_dotenv()\n",
    "\n",
    "EXTERNAL = Path(os.getenv(\"EXTERNAL_STORAGE_DIR\"))\n",
    "DATA_DIR = Path(os.getenv(\"DATA_DIR\", \"data\"))\n",
    "PROC_DIR = DATA_DIR / \"processed\"\n",
    "SPLIT_DIR = DATA_DIR / \"splits\"\n",
    "\n",
    "PROC_DIR.mkdir(parents=True, exist_ok=True)\n",
    "SPLIT_DIR.mkdir(parents=True, exist_ok=True)\n",
    "\n",
    "print(f\"EXTERNAL_STORAGE_DIR: {EXTERNAL}\")\n",
    "print(f\"DATA_DIR: {DATA_DIR.resolve()}\")"
   ]
  },
  {
   "cell_type": "code",
   "execution_count": 3,
   "id": "ede98de6-3abd-460d-8770-ab77b9e33bd1",
   "metadata": {},
   "outputs": [
    {
     "name": "stderr",
     "output_type": "stream",
     "text": [
      "Generating train split: 100%|███████████████████████████████████████████| 60964/60964 [00:01<00:00, 45872.64 examples/s]\n",
      "Generating validation split: 100%|████████████████████████████████████████| 6369/6369 [00:00<00:00, 54602.97 examples/s]\n",
      "Generating test split: 100%|██████████████████████████████████████████████| 6793/6793 [00:00<00:00, 39388.34 examples/s]\n"
     ]
    },
    {
     "data": {
      "text/plain": [
       "DatasetDict({\n",
       "    train: Dataset({\n",
       "        features: ['text', 'summary', 'title', 'date', 'url'],\n",
       "        num_rows: 60964\n",
       "    })\n",
       "    validation: Dataset({\n",
       "        features: ['text', 'summary', 'title', 'date', 'url'],\n",
       "        num_rows: 6369\n",
       "    })\n",
       "    test: Dataset({\n",
       "        features: ['text', 'summary', 'title', 'date', 'url'],\n",
       "        num_rows: 6793\n",
       "    })\n",
       "})"
      ]
     },
     "execution_count": 3,
     "metadata": {},
     "output_type": "execute_result"
    }
   ],
   "source": [
    "ds = load_dataset(\"IlyaGusev/gazeta\")\n",
    "\n",
    "ds"
   ]
  },
  {
   "cell_type": "code",
   "execution_count": 4,
   "id": "44b273a3-1e7a-4550-bd9e-86de4b8b5a52",
   "metadata": {},
   "outputs": [
    {
     "data": {
      "text/plain": [
       "{'text': 'Сегодня транспортный налог начисляется в зависимости от мощности автомобиля, причем цена для «сильных» машин выше, чем для малолитражек. Также ставку налога могут корректировать региональные власти: согласно Налоговому кодексу, базовый тариф, установленный правительством, может быть уменьшен в пять раз или увеличен до 10 раз. Сборы идут в региональные бюджеты, откуда растекаются на общие нужды. Транспортный налог — один из основных источников бюджетных доходов — предлагается направить исключительно на дорожные фонды. Так, автомобилисты будут понимать, за что они платят, а дорожники будут иметь гарантированный доход. Кроме налога дорожные фонды будут пополняться за счет бюджетных средств и проезда по платным дорогам. Более того, транспортный налог предлагается завуалировать в акцизы на бензин. Привычную и раздражающую систему ежегодной оплаты квитанции предлагается изменить, включив налог в стоимость топлива. Минэкономразвития говорит об удвоении акцизы, которая сегодня составляет 3,32 рубля за литр 92-го и 95-го бензина. Теперь платить будет не тот, кто купил машину мощнее, а тот, кто больше ездит. Владельцам многосильных автомобилей, которые сегодня отдают в год по 45–50 тысяч за машину, нововведение явно выгодно. Также выигрывают хозяева нескольких автомобилей, которые используются поочередно. Если в семье две-три машины, которые много стоят в гараже и не эксплуатируются, сейчас приходится платить за все. По новой схеме сбор будет значительно меньше. Но владельцы экономичных машин будут выкладывать гораздо больше при равном пробеге. Если цена бензина вырастет на 3,32 рубля, то владелец вазовской «девятки», потребляющей на 100 км в городе около 10 литров, заплатит в год 10162 рубля при среднем пробеге 30 тыс. км вместо 550 руб. по квитанции, а за Citroen C3 мощностью 73 л. с. и расходом 8,5 л на «сотню» придется в год выложить около 8,5 тысяч рублей. Сейчас – 511 руб. Хорошо укомплектованный Ford Focus cо 145-сильным мотором за 30 тыс. км. обойдется в 11155 «налоговых» рублей – на 6800 рублей дороже, чем при существующей ставке налогообложения, а вот налог на пожилой Mercedes-Benz S420 в кузове W140 при новой системе снизится почти вдвое. Сейчас владелец платит в год за 279 л. с. мотора около 41850 рублей. При среднем пробеге в 30 тыс. км в год и расходе топлива порядка 20 л на 100 км он истратит всего 6000 литров бензина и заплатит в казну вдвое меньше – 19920 рублей. С точки зрения власти решение отмены транспортного налога понятное и верное. В первую очередь, собираемость налога тут же возрастет до 100%, потому что новая система исключает возможность уклониться от уплаты. Кроме того, налоговая инспекция сэкономит бюджетные средства на доставке квитанций и судебных издержках при выколачивании средств с неплательщиков. Автоматически решается вопрос с бюрократической неразберихой после продажи машины или утилизации, когда налоговые органы присылают квитанцию на давно проданную машину. Но главное, что при новой схеме сборы значительно возрастут. Власти рассчитывают собирать до 62 млрд рублей в год. Экономисты уже предвидят тотальное повышение цен из-за роста стоимости перевозок. Ведь за бензин придется переплачивать и логистическим компаниям, которые включат дополнительные расходы в цену товара. Получается, что теперь за дороги будут платить не только автомобилисты, но и те, кто за рулем никогда не сидел. Но даже с учетом всех оговорок отмена транспортного налога — это важный и сильный политический шаг, который поможет снять напряжение в регионах. Дело в том, что скрытое налогообложение делает поборы незаметными и не травмирующими. Ведь власти и сейчас любят педалировать тем, что в стране самый низкий в Европе подоходный налог 13%. При этом они не афишируют другие отчисления в бюджет, которые снимаются с граждан с теми же акцизами и НДС. Есть также сомнения, что власти смогут обеспечить прозрачность расходования средств. Дорожные фонды в России уже существовали и были расформированы в 2000 году за коррупционность. Как предполагается распределять деньги между регионами и федеральным дорожным агентством и кто будет следить за потоками, в правительстве пока не решили.',\n",
       " 'summary': 'С 2011 года правительство отменяет самый раздражающий граждан налог – транспортный. Но поборы автомобилистов не прекратятся – налоги завуалируют в бензиновые акцизы и платные дороги, а цены на товары подскочат. Зато теперь собираемые деньги обещают пустить только на строительство и содержание дорог.',\n",
       " 'title': 'Налог в бак',\n",
       " 'date': '2010-06-01 10:35:49',\n",
       " 'url': 'https://www.gazeta.ru/auto/2010/05/31_a_3377717.shtml'}"
      ]
     },
     "execution_count": 4,
     "metadata": {},
     "output_type": "execute_result"
    }
   ],
   "source": [
    "ds[\"train\"][0]"
   ]
  },
  {
   "cell_type": "code",
   "execution_count": 13,
   "id": "2ac99cd2-b4e0-420b-8b5d-e8aab3480405",
   "metadata": {},
   "outputs": [
    {
     "name": "stdout",
     "output_type": "stream",
     "text": [
      "Feature names: ['text', 'summary', 'title', 'date', 'url']\n",
      "Splits: ['train', 'validation', 'test']\n"
     ]
    }
   ],
   "source": [
    "splits = list(ds.keys())\n",
    "features = list(ds[splits[1]].features.keys())\n",
    "print(f\"Feature names: {features}\")\n",
    "print(f\"Splits: {splits}\")"
   ]
  },
  {
   "cell_type": "code",
   "execution_count": 12,
   "id": "b08ea99a-749f-4196-97fd-84b157c0ca51",
   "metadata": {},
   "outputs": [],
   "source": [
    "text_col, summ_col, title_col = features[:3]"
   ]
  },
  {
   "cell_type": "code",
   "execution_count": 19,
   "id": "406d162b-1b27-44c3-8a83-8ab7ef2b782f",
   "metadata": {},
   "outputs": [],
   "source": [
    "from typing import Optional\n",
    "\n",
    "\n",
    "def clean(s: Optional[pd.Series]) -> Optional[pd.Series]:\n",
    "    s = s.fillna(\"\")\n",
    "    s = (\n",
    "        s.str.replace(\"\\xa0\", \" \", regex=False)\n",
    "        .str.replace(\"\\u2009\", \" \", regex=False)\n",
    "        .str.replace(r\"\\s+\", \" \", regex=True)\n",
    "        .str.strip()\n",
    "    )\n",
    "    return s"
   ]
  },
  {
   "cell_type": "code",
   "execution_count": 23,
   "id": "152b2949-d34c-480e-be8b-97ec5343e37e",
   "metadata": {},
   "outputs": [],
   "source": [
    "for split in splits:\n",
    "    df = ds[split].to_pandas()\n",
    "    df[\"origin_idx\"] = df.index\n",
    "    df[title_col] = clean(df[title_col])\n",
    "    df[text_col] = clean(df[text_col])\n",
    "    df[summ_col] = clean(df[summ_col])\n",
    "    df = df[df[text_col].str.len() > 300].reset_index(drop=True)\n",
    "    out = pd.DataFrame(\n",
    "        {\n",
    "            \"id\": (split + \"_\" + df[\"origin_idx\"].astype(str)),\n",
    "            \"title\": df[title_col],\n",
    "            \"text\": df[text_col],\n",
    "            \"reference_summary\": df[summ_col],\n",
    "        }\n",
    "    )\n",
    "\n",
    "    # out_split_ids = SPLIT_DIR / f\"gazeta_{split}_ids.csv\"\n",
    "    # out[\"id\"].to_csv(out_split_ids, index=False, header=False)\n",
    "\n",
    "    # out_split_sample = SPLIT_DIR / f\"gazeta_{split}_sample.jsonl\"\n",
    "    # sample = out.sample(n=min(500, len(out)), random_state=42)\n",
    "    # sample.to_json(out_split_sample, orient=\"records\", force_ascii=False, lines=True)\n",
    "\n",
    "    out_proc = PROC_DIR / f\"gazeta_{split}.jsonl\"\n",
    "    out.to_json(out_proc, orient=\"records\", force_ascii=False, lines=True)\n",
    "\n",
    "    # if EXTERNAL:\n",
    "    #     mirror = EXTERNAL / \"data\" / \"raw\"\n",
    "    #     mirror.mkdir(parents=True, exist_ok=True)\n",
    "    #     out.to_json(\n",
    "    #         mirror / f\"gazeta_{split}.jsonl\",\n",
    "    #         orient=\"records\",\n",
    "    #         force_ascii=False,\n",
    "    #         lines=True,\n",
    "    #     )"
   ]
  },
  {
   "cell_type": "code",
   "execution_count": null,
   "id": "c5b8b406-d62d-4068-a800-86e86092e6e8",
   "metadata": {},
   "outputs": [],
   "source": []
  }
 ],
 "metadata": {
  "kernelspec": {
   "display_name": "Python (.venv) llm-news",
   "language": "python",
   "name": "llm-news"
  },
  "language_info": {
   "codemirror_mode": {
    "name": "ipython",
    "version": 3
   },
   "file_extension": ".py",
   "mimetype": "text/x-python",
   "name": "python",
   "nbconvert_exporter": "python",
   "pygments_lexer": "ipython3",
   "version": "3.12.7"
  }
 },
 "nbformat": 4,
 "nbformat_minor": 5
}
