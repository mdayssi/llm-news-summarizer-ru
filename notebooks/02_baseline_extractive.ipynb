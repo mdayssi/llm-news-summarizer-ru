{
 "cells": [
  {
   "cell_type": "code",
   "execution_count": 10,
   "id": "f9795987-1ca0-4025-a68b-98d2a44cd2c0",
   "metadata": {},
   "outputs": [],
   "source": [
    "import os\n",
    "from pathlib import Path\n",
    "from typing import Optional\n",
    "\n",
    "import evaluate\n",
    "import numpy as np\n",
    "import pandas as pd\n",
    "from dotenv import load_dotenv\n",
    "from razdel import sentenize\n",
    "from rouge_score import rouge_scorer"
   ]
  },
  {
   "cell_type": "code",
   "execution_count": 23,
   "id": "58339938-51e3-423a-a1d8-f9d68a4cd8b3",
   "metadata": {},
   "outputs": [],
   "source": [
    "def find_repo_root(start: Optional[Path] | None = None) -> Optional[Path]:\n",
    "    p = start or Path.cwd()\n",
    "    for q in [p, *p.parents]:\n",
    "        if (q / \".git\").exists():\n",
    "            return q\n",
    "    return Path.cwd()  # запасной вариант\n",
    "\n",
    "\n",
    "load_dotenv()\n",
    "\n",
    "EXTERNAL = Path(os.getenv(\"EXTERNAL_STORAGE_DIR\"))\n",
    "SRC = EXTERNAL / \"data\" / \"raw\" / \"gazeta_validation.jsonl\"\n",
    "ROOT = find_repo_root()\n",
    "METRICS_DIR = ROOT / \"metrics\"\n",
    "METRICS_DIR.mkdir(parents=True, exist_ok=True)\n",
    "\n",
    "text_col, summ_col, title_col = \"text\", \"reference_summary\", \"title\""
   ]
  },
  {
   "cell_type": "code",
   "execution_count": 9,
   "id": "7c04fe39-6b66-4c65-991c-22f7c07f19b3",
   "metadata": {},
   "outputs": [
    {
     "name": "stdout",
     "output_type": "stream",
     "text": [
      "(6369, 4)\n"
     ]
    },
    {
     "data": {
      "text/html": [
       "<div>\n",
       "<style scoped>\n",
       "    .dataframe tbody tr th:only-of-type {\n",
       "        vertical-align: middle;\n",
       "    }\n",
       "\n",
       "    .dataframe tbody tr th {\n",
       "        vertical-align: top;\n",
       "    }\n",
       "\n",
       "    .dataframe thead th {\n",
       "        text-align: right;\n",
       "    }\n",
       "</style>\n",
       "<table border=\"1\" class=\"dataframe\">\n",
       "  <thead>\n",
       "    <tr style=\"text-align: right;\">\n",
       "      <th></th>\n",
       "      <th>id</th>\n",
       "      <th>title</th>\n",
       "      <th>text</th>\n",
       "      <th>reference_summary</th>\n",
       "    </tr>\n",
       "  </thead>\n",
       "  <tbody>\n",
       "    <tr>\n",
       "      <th>0</th>\n",
       "      <td>validation_0</td>\n",
       "      <td>Дорогой 2020-й: какие продукты подскочат в цене</td>\n",
       "      <td>В 2020 году инфляция в России составит 3,5-4%,...</td>\n",
       "      <td>В уходящем году инфляция в России находится на...</td>\n",
       "    </tr>\n",
       "    <tr>\n",
       "      <th>1</th>\n",
       "      <td>validation_1</td>\n",
       "      <td>Подарок от Ким Чен Ына: Трамп ответил на новые...</td>\n",
       "      <td>Глава Белого дома Дональд Трамп выразил надежд...</td>\n",
       "      <td>Мировая общественность призвала лидера КНДР Ки...</td>\n",
       "    </tr>\n",
       "  </tbody>\n",
       "</table>\n",
       "</div>"
      ],
      "text/plain": [
       "             id                                              title  \\\n",
       "0  validation_0    Дорогой 2020-й: какие продукты подскочат в цене   \n",
       "1  validation_1  Подарок от Ким Чен Ына: Трамп ответил на новые...   \n",
       "\n",
       "                                                text  \\\n",
       "0  В 2020 году инфляция в России составит 3,5-4%,...   \n",
       "1  Глава Белого дома Дональд Трамп выразил надежд...   \n",
       "\n",
       "                                   reference_summary  \n",
       "0  В уходящем году инфляция в России находится на...  \n",
       "1  Мировая общественность призвала лидера КНДР Ки...  "
      ]
     },
     "execution_count": 9,
     "metadata": {},
     "output_type": "execute_result"
    }
   ],
   "source": [
    "df = pd.read_json(SRC, lines=True)\n",
    "\n",
    "print(df.shape)\n",
    "df.head(2)"
   ]
  },
  {
   "cell_type": "code",
   "execution_count": 11,
   "id": "d76803e5-570a-4d00-bcdf-651df0940f5a",
   "metadata": {},
   "outputs": [
    {
     "data": {
      "text/plain": [
       "'В уходящем году инфляция в России находится на историческом минимуме. В следующем году ожидается, что она также будет минимальной. Однако стоимость ряда продуктов и напитков в 2020 году может вырасти гораздо выше инфляции. Это касается молочных продуктов. Вырастет в цене водка, коньяк и вино, продолжит дорожать гречка.'"
      ]
     },
     "execution_count": 11,
     "metadata": {},
     "output_type": "execute_result"
    }
   ],
   "source": [
    "df.loc[0, \"reference_summary\"]"
   ]
  },
  {
   "cell_type": "code",
   "execution_count": 12,
   "id": "8fd9abcb-1351-4fd8-869d-1d1c062f93f5",
   "metadata": {},
   "outputs": [],
   "source": [
    "def lead_k(text: Optional[str], k: Optional[int]) -> Optional[str]:\n",
    "    sents = [s.text.strip() for s in sentenize(text or \"\")]\n",
    "    return \" \".join(sents[:k])"
   ]
  },
  {
   "cell_type": "code",
   "execution_count": 13,
   "id": "84056ac3-b5a1-4504-94a2-362727bee7c8",
   "metadata": {},
   "outputs": [],
   "source": [
    "preds = [lead_k(text, 3) for text in df[text_col]]\n",
    "refs = df[summ_col].tolist()"
   ]
  },
  {
   "cell_type": "code",
   "execution_count": 14,
   "id": "8e069fc6-7159-4a1f-b1d0-173fd39f96da",
   "metadata": {},
   "outputs": [
    {
     "data": {
      "text/plain": [
       "'В 2020 году инфляция в России составит 3,5-4%, прогнозирует Центробанк. В первом квартале она ожидается так и вовсе ниже 3%. Впрочем, на ряд продовольственных товаров цены будут расти гораздо более высокими темпами.'"
      ]
     },
     "execution_count": 14,
     "metadata": {},
     "output_type": "execute_result"
    }
   ],
   "source": [
    "preds[0]"
   ]
  },
  {
   "cell_type": "code",
   "execution_count": 16,
   "id": "97e43ceb-054c-4952-bb65-a64234b13883",
   "metadata": {},
   "outputs": [
    {
     "data": {
      "text/plain": [
       "{'rouge1': np.float64(0.22966416221096536),\n",
       " 'rouge2': np.float64(0.08414394187762991),\n",
       " 'rougeL': np.float64(0.22196393748599946),\n",
       " 'rougeLsum': np.float64(0.2218676485892185)}"
      ]
     },
     "execution_count": 16,
     "metadata": {},
     "output_type": "execute_result"
    }
   ],
   "source": [
    "rouge = evaluate.load(\"rouge\")\n",
    "scores = rouge.compute(predictions=preds, references=refs, use_stemmer=False)\n",
    "scores"
   ]
  },
  {
   "cell_type": "code",
   "execution_count": 22,
   "id": "9a4d630f-caa5-4559-a6a8-3b56c9a0d36e",
   "metadata": {},
   "outputs": [
    {
     "data": {
      "text/plain": [
       "np.float64(0.22966416221096536)"
      ]
     },
     "execution_count": 22,
     "metadata": {},
     "output_type": "execute_result"
    }
   ],
   "source": [
    "scores.get(\"rouge1\", 0.0)"
   ]
  },
  {
   "cell_type": "code",
   "execution_count": 24,
   "id": "538dc6b4-b4ec-411d-b194-db5d2aeb1a0c",
   "metadata": {},
   "outputs": [
    {
     "name": "stdout",
     "output_type": "stream",
     "text": [
      "Save\n"
     ]
    }
   ],
   "source": [
    "Path(METRICS_DIR).mkdir(parents=True, exist_ok=True)\n",
    "\n",
    "df_metrics = pd.DataFrame(\n",
    "    [\n",
    "        {\n",
    "            \"system\": \"extractive_lead3\",\n",
    "            \"split\": \"validation_full\",\n",
    "            \"rouge1\": scores.get(\"rouge1\", 0.0),\n",
    "            \"rouge2\": scores.get(\"rouge2\", 0.0),\n",
    "            \"rougeL\": scores.get(\"rougeL\", 0.0),\n",
    "            \"rougeLsum\": scores.get(\"rougeLsum\", 0.0),\n",
    "            \"avg_pred_len_tokens\": np.mean([len(p.split()) for p in preds]),\n",
    "            \"k\": 3,\n",
    "            \"n_examples\": df.shape[0],\n",
    "        }\n",
    "    ]\n",
    ")\n",
    "df_metrics.to_csv(METRICS_DIR / \"lead3_validation_full.csv\", index=False)\n",
    "\n",
    "df_sampels = pd.DataFrame(\n",
    "    {\n",
    "        \"title\": df[\"title\"].head(3) if \"title\" in df else [\"\"] * 3,\n",
    "        \"reference\": refs[:3],\n",
    "        \"prediction\": preds[:3],\n",
    "    }\n",
    ")\n",
    "df_sampels.to_csv(METRICS_DIR / \"lead3_validation_examples.tsv\", sep=\"\\t\", index=False)\n",
    "print(\"Save\")"
   ]
  },
  {
   "cell_type": "code",
   "execution_count": null,
   "id": "54f84b65-ddfb-4ec6-8f7d-f03df20a3a6d",
   "metadata": {},
   "outputs": [],
   "source": []
  }
 ],
 "metadata": {
  "kernelspec": {
   "display_name": "Python (.venv) llm-news",
   "language": "python",
   "name": "llm-news"
  },
  "language_info": {
   "codemirror_mode": {
    "name": "ipython",
    "version": 3
   },
   "file_extension": ".py",
   "mimetype": "text/x-python",
   "name": "python",
   "nbconvert_exporter": "python",
   "pygments_lexer": "ipython3",
   "version": "3.12.7"
  }
 },
 "nbformat": 4,
 "nbformat_minor": 5
}
