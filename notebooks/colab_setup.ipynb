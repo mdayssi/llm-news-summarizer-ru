{
 "cells": [
  {
   "cell_type": "code",
   "execution_count": null,
   "id": "0",
   "metadata": {
    "colab": {
     "base_uri": "https://localhost:8080/"
    },
    "id": "0",
    "outputId": "98f8be41-43c1-44e3-f186-07db3a4e89a0"
   },
   "outputs": [],
   "source": [
    "# Проверка, что среда Colab активна и доступен GPU\n",
    "!nvidia-smi\n",
    "import torch\n",
    "\n",
    "print(\"torch:\", torch.__version__, \"| CUDA доступна:\", torch.cuda.is_available())"
   ]
  },
  {
   "cell_type": "code",
   "execution_count": null,
   "id": "1",
   "metadata": {
    "colab": {
     "base_uri": "https://localhost:8080/"
    },
    "id": "1",
    "outputId": "26e3bff5-0dbc-43d0-ac2b-828391572209"
   },
   "outputs": [],
   "source": [
    "from google.colab import drive\n",
    "\n",
    "drive.mount(\"/content/drive\", force_remount=True)"
   ]
  },
  {
   "cell_type": "code",
   "execution_count": null,
   "id": "2",
   "metadata": {
    "colab": {
     "base_uri": "https://localhost:8080/"
    },
    "id": "2",
    "outputId": "8b7e4702-40ad-44fc-9bb7-32ca88a27ddf"
   },
   "outputs": [],
   "source": [
    "import os\n",
    "\n",
    "BASE = \"/content/drive/MyDrive/llm-news\"\n",
    "for sub in [\"models\", \"metrics\", \"hf_cache\"]:\n",
    "    os.makedirs(os.path.join(BASE, sub), exist_ok=True)\n",
    "\n",
    "print(\"Созданы/проверены папки:\", os.listdir(BASE))"
   ]
  },
  {
   "cell_type": "code",
   "execution_count": null,
   "id": "3",
   "metadata": {
    "colab": {
     "base_uri": "https://localhost:8080/"
    },
    "id": "3",
    "outputId": "7a289c41-e7dc-4d5c-8322-d0b1dbbed260"
   },
   "outputs": [],
   "source": [
    "import subprocess\n",
    "import sys\n",
    "\n",
    "REPO_URL = \"https://github.com/mdayssi/llm-news-summarizer-ru.git\"\n",
    "REPO_DIR = \"/content/llm-news\"\n",
    "\n",
    "if not os.path.exists(REPO_DIR):\n",
    "    !git clone {REPO_URL} {REPO_DIR}\n",
    "else:\n",
    "    print(\"Репозиторий уже есть:\", REPO_DIR)\n",
    "\n",
    "# Дальше будем работать из корня репо\n",
    "%cd {REPO_DIR}\n",
    "!git rev-parse --short HEAD"
   ]
  },
  {
   "cell_type": "code",
   "execution_count": null,
   "id": "4",
   "metadata": {
    "colab": {
     "base_uri": "https://localhost:8080/"
    },
    "id": "4",
    "outputId": "4f3c437d-39c9-43e0-e1b6-118ca1697f5f"
   },
   "outputs": [],
   "source": [
    "from pathlib import Path\n",
    "\n",
    "env_path = Path(REPO_DIR) / \".env\"\n",
    "kv = {\n",
    "    \"EXTERNAL_MODELS_DIR\": \"/content/drive/MyDrive/llm-news/models\",\n",
    "    \"EXTERNAL_METRICS_DIR\": \"/content/drive/MyDrive/llm-news/metrics_big\",\n",
    "    \"EXTERNAL_CACHE_DIR\": \"/content/drive/MyDrive/llm-news/hf_cache\",\n",
    "}\n",
    "text = \"\\n\".join([f\"{k}={v}\" for k, v in kv.items()]) + \"\\n\"\n",
    "env_path.write_text(text, encoding=\"utf-8\")\n",
    "\n",
    "print(\".env создано:\")\n",
    "print(env_path.read_text())"
   ]
  },
  {
   "cell_type": "code",
   "execution_count": null,
   "id": "5",
   "metadata": {
    "colab": {
     "base_uri": "https://localhost:8080/"
    },
    "id": "5",
    "outputId": "3eada0c4-a34c-442b-c776-771679d99c9f"
   },
   "outputs": [],
   "source": [
    "%pip -q install --upgrade \\\n",
    "  evaluate rouge-score bert_score\\\n",
    "  razdel bitsandbytes\\\n",
    "  python-dotenv pyyaml \\\n",
    "\n",
    "import accelerate\n",
    "import bert_score\n",
    "import bitsandbytes\n",
    "import datasets\n",
    "import dotenv\n",
    "import evaluate\n",
    "import razdel\n",
    "import rouge_score\n",
    "import sentencepiece\n",
    "import torch\n",
    "import tqdm\n",
    "import transformers\n",
    "import yaml\n",
    "\n",
    "print(\"torch:\", torch.__version__, \"| cuda avail:\", torch.cuda.is_available())\n",
    "print(\"transformers:\", transformers.__version__)\n",
    "print(\"datasets:\", datasets.__version__)\n",
    "print(\"evaluate:\", evaluate.__version__)"
   ]
  },
  {
   "cell_type": "code",
   "execution_count": null,
   "id": "6",
   "metadata": {
    "colab": {
     "base_uri": "https://localhost:8080/"
    },
    "id": "6",
    "outputId": "ae632953-ce38-430b-dc86-b5632267d666"
   },
   "outputs": [],
   "source": [
    "import sys\n",
    "\n",
    "repo_src = \"/content/llm-news/src\"\n",
    "if repo_src not in sys.path:\n",
    "    sys.path.insert(0, repo_src)\n",
    "print(\"sys.path ok\")"
   ]
  },
  {
   "cell_type": "code",
   "execution_count": null,
   "id": "7",
   "metadata": {
    "colab": {
     "base_uri": "https://localhost:8080/"
    },
    "id": "t5pidgXhaMOW",
    "outputId": "fdb43489-92b0-4153-ce0c-4e93b511911d"
   },
   "outputs": [],
   "source": [
    "2 + 2"
   ]
  },
  {
   "cell_type": "code",
   "execution_count": null,
   "id": "8",
   "metadata": {
    "id": "ALXLD68KabBL"
   },
   "outputs": [],
   "source": []
  }
 ],
 "metadata": {
  "accelerator": "GPU",
  "colab": {
   "gpuType": "A100",
   "machine_shape": "hm",
   "provenance": []
  },
  "kernelspec": {
   "display_name": "Python (llm-news)",
   "language": "python",
   "name": "llm-news"
  },
  "language_info": {
   "codemirror_mode": {
    "name": "ipython",
    "version": 3
   },
   "file_extension": ".py",
   "mimetype": "text/x-python",
   "name": "python",
   "nbconvert_exporter": "python",
   "pygments_lexer": "ipython3",
   "version": "3.12.11"
  }
 },
 "nbformat": 4,
 "nbformat_minor": 5
}
